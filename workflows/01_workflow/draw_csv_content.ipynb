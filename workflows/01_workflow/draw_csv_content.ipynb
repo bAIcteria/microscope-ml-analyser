{
 "cells": [
  {
   "cell_type": "code",
   "execution_count": 76,
   "id": "ce0c3418",
   "metadata": {},
   "outputs": [],
   "source": [
    "import numpy as np\n",
    "import pandas as pd\n",
    "\n",
    "def preprocess_df(df: pd.DataFrame) -> pd.DataFrame:\n",
    "    df = df[(df != \"******\").all(axis=1)]\n",
    "    \n",
    "    col_map = {\n",
    "        \"długośćmm\": \"dlugoscmm\",\n",
    "        \"szerokośćmm\": \"szerokoscmm\",\n",
    "        \"kąt\": \"kat\",\n",
    "        \"obwódmm\": \"obwodmm\",\n",
    "        \"średnica_fereta_hmm\": \"srednica_fereta_hmm\",\n",
    "        \"średn._martinamm\": \"sredn._martinamm\",\n",
    "        \"średn._sitowamm\": \"sredn._sitowamm\",\n",
    "        \"średnia_jaskrawość\": \"srednia_jaskrawosc\"\n",
    "    }\n",
    "\n",
    "    if \"długośćmm\" in df.columns:\n",
    "        df = df.rename(columns=col_map)\n",
    "        if \"szerokoscmm\" in df.columns:\n",
    "            df[\"szerokoscmm\"] = df[\"szerokoscmm\"].astype(np.float64)\n",
    "\n",
    "    return df\n"
   ]
  },
  {
   "cell_type": "code",
   "execution_count": 77,
   "id": "50cab9fa",
   "metadata": {},
   "outputs": [],
   "source": [
    "import pandas as pd\n",
    "import cv2\n",
    "import numpy as np\n",
    "\n",
    "def process_one_image(CSV_PATH = 'KolejnyTest/5M/x/report_5_x.csv',IMAGE_PATH = f'KolejnyTest/5M/x/a.jpg'   ,OUTPUT_PATH = f'KolejnyTest/5M/x/a_marked.jpg'):\n",
    "    # === CONFIG ===\n",
    "            # Path to the original image\n",
    "        # Where to save the output image\n",
    "\n",
    "    # === LOAD IMAGE AND DATA ===\n",
    "    img = cv2.imread(IMAGE_PATH)\n",
    "    df = preprocess_df(pd.read_csv(CSV_PATH))\n",
    "\n",
    "    height, width = img.shape[:2]\n",
    "\n",
    "    # === DRAW OBJECTS ===\n",
    "    for i, row in df.iterrows():\n",
    "        try:\n",
    "            # Extract pixel coordinates\n",
    "            x = int(row['xpix.'])\n",
    "            y = int(row['ypix.'])\n",
    "            \n",
    "            # Extract size in mm → convert to pixels if needed (assuming 1mm = 10px for now, adjust as needed)\n",
    "            width_mm = float(row['szerokoscmm'])\n",
    "            height_mm = float(row['dlugoscmm'])\n",
    "            # angle = 90-float(row['kat'])  # OpenCV uses negative angle for rotation\n",
    "            angle = float(row['kat'])  # OpenCV uses negative angle for rotation\n",
    "\n",
    "            mm_to_px = 10  # ⬅️ Adjust this scaling factor based on your image resolution\n",
    "\n",
    "            width_px = int(width_mm * mm_to_px)\n",
    "            height_px = int(height_mm * mm_to_px)\n",
    "\n",
    "            # Draw ellipse representing the object\n",
    "            center = (x, height-y)\n",
    "            # axes = (1, 1)\n",
    "            axes = (width_px // 2, height_px // 2)\n",
    "            color = (0, 255, 0)  # Green\n",
    "            thickness = 1\n",
    "\n",
    "            cv2.ellipse(img, center, axes, angle, 0, 360, color, thickness)\n",
    "\n",
    "            # Optional: draw ID\n",
    "            cv2.putText(img, str(int(row['nr.'])), (x + 5, height - y - 5),\n",
    "                        cv2.FONT_HERSHEY_SIMPLEX, 0.4, (0, 0, 255), 1)\n",
    "        except Exception as e:\n",
    "            print(e)\n",
    "\n",
    "    # === SAVE RESULT ===\n",
    "    cv2.imwrite(OUTPUT_PATH, img)\n",
    "    print(f\"Image saved to {OUTPUT_PATH}\")"
   ]
  },
  {
   "cell_type": "code",
   "execution_count": 78,
   "id": "cf55cbe6",
   "metadata": {},
   "outputs": [],
   "source": [
    "# for i in range(1,11):\n",
    "#     process_one_image(CSV_PATH=f'raport_generating_test/x/results/a{i}_raport.csv',IMAGE_PATH=f'raport_generating_test/x/a{i}.jpg',OUTPUT_PATH=f'raport_generating_test/x/results/a{i}_marked_elipse.jpg')"
   ]
  },
  {
   "cell_type": "code",
   "execution_count": 79,
   "id": "1bc3fbda",
   "metadata": {},
   "outputs": [
    {
     "name": "stdout",
     "output_type": "stream",
     "text": [
      "Image saved to raport_generating_test/y/results/a1_marked_elipse.jpg\n",
      "Image saved to raport_generating_test/y/results/a2_marked_elipse.jpg\n",
      "Image saved to raport_generating_test/y/results/a3_marked_elipse.jpg\n",
      "Image saved to raport_generating_test/y/results/a4_marked_elipse.jpg\n",
      "Image saved to raport_generating_test/y/results/a5_marked_elipse.jpg\n",
      "Image saved to raport_generating_test/y/results/a6_marked_elipse.jpg\n",
      "Image saved to raport_generating_test/y/results/a7_marked_elipse.jpg\n",
      "Image saved to raport_generating_test/y/results/a8_marked_elipse.jpg\n",
      "Image saved to raport_generating_test/y/results/a9_marked_elipse.jpg\n",
      "Image saved to raport_generating_test/y/results/a10_marked_elipse.jpg\n"
     ]
    }
   ],
   "source": [
    "for i in range(1,11):\n",
    "    process_one_image(CSV_PATH=f'raport_generating_test/y/results/a{i}_raport_no_model.csv',IMAGE_PATH=f'raport_generating_test/y/a{i}.jpg',OUTPUT_PATH=f'raport_generating_test/y/results/a{i}_marked_elipse.jpg')"
   ]
  },
  {
   "cell_type": "code",
   "execution_count": 80,
   "id": "9ec740c5",
   "metadata": {},
   "outputs": [],
   "source": [
    "# for i in range(1,11):\n",
    "#     process_one_image(CSV_PATH=f'raport_generating_test/y/agata_1_y_real_correct_index/raport_a{i}.csv',IMAGE_PATH=f'raport_generating_test/y/a{i}.jpg',OUTPUT_PATH=f'raport_generating_test/y/agata_1_y_real_correct_index/a{i}_marked_elipse_predicted.jpg')"
   ]
  }
 ],
 "metadata": {
  "kernelspec": {
   "display_name": ".venv",
   "language": "python",
   "name": "python3"
  },
  "language_info": {
   "codemirror_mode": {
    "name": "ipython",
    "version": 3
   },
   "file_extension": ".py",
   "mimetype": "text/x-python",
   "name": "python",
   "nbconvert_exporter": "python",
   "pygments_lexer": "ipython3",
   "version": "3.12.11"
  }
 },
 "nbformat": 4,
 "nbformat_minor": 5
}
