{
 "cells": [
  {
   "cell_type": "code",
   "execution_count": 98,
   "id": "094a2a02",
   "metadata": {},
   "outputs": [],
   "source": [
    "import os\n",
    "import pandas as pd\n",
    "\n",
    "def load_dfs_from_path(path=\"example\"):\n",
    "\n",
    "    combined_df = []\n",
    "\n",
    "    for entry in os.scandir(path):  \n",
    "        if entry.is_file() and entry.name.endswith(\".csv\"):\n",
    "            df = pd.read_csv(entry.path)\n",
    "            combined_df.append(df)\n",
    "\n",
    "    combined_df = pd.concat(combined_df, ignore_index=True)\n",
    "\n",
    "    return combined_df"
   ]
  },
  {
   "cell_type": "code",
   "execution_count": 99,
   "id": "8cf5ab9a",
   "metadata": {},
   "outputs": [],
   "source": [
    "import numpy as np\n",
    "import pandas as pd\n",
    "\n",
    "def preprocess_df(df: pd.DataFrame) -> pd.DataFrame:\n",
    "    df = df[(df != \"******\").all(axis=1)]\n",
    "    \n",
    "    col_map = {\n",
    "        \"długośćmm\": \"dlugoscmm\",\n",
    "        \"szerokośćmm\": \"szerokoscmm\",\n",
    "        \"kąt\": \"kat\",\n",
    "        \"obwódmm\": \"obwodmm\",\n",
    "        \"średnica_fereta_hmm\": \"srednica_fereta_hmm\",\n",
    "        \"średn._martinamm\": \"sredn._martinamm\",\n",
    "        \"średn._sitowamm\": \"sredn._sitowamm\",\n",
    "        \"średnia_jaskrawość\": \"srednia_jaskrawosc\"\n",
    "    }\n",
    "\n",
    "    if \"długośćmm\" in df.columns:\n",
    "        df = df.rename(columns=col_map)\n",
    "        if \"szerokoscmm\" in df.columns:\n",
    "            df[\"szerokoscmm\"] = df[\"szerokoscmm\"].astype(np.float64)\n",
    "\n",
    "    return df\n"
   ]
  },
  {
   "cell_type": "code",
   "execution_count": 100,
   "id": "c26fbfd1",
   "metadata": {},
   "outputs": [],
   "source": [
    "def get_individual_stats(df):\n",
    "    df = preprocess_df(df)\n",
    "    # Scaling\n",
    "    df['dlugoscmm'] = df['dlugoscmm']/1.49\n",
    "    df['szerokoscmm'] = df['szerokoscmm']/1.49\n",
    "    df['powierzchniamm'] = df['powierzchniamm']/2.235\n",
    "\n",
    "    # filtering the things that with high probability are not bacteria\n",
    "    df = df[df['dlugoscmm'] >= 0.2]\n",
    "    df = df[df['szerokoscmm'] <= 1.5]\n",
    "\n",
    "    df['Pw'] = 3.14*(df['szerokoscmm']/2)**2+df['szerokoscmm']*(df['dlugoscmm']-df['szerokoscmm'])\n",
    "    df['R'] = df['Pw'] / df['powierzchniamm']\n",
    "    df['Dk'] = df['dlugoscmm']\n",
    "    df['Sk'] = df['szerokoscmm']\n",
    "    df['D/S'] = (df['Dk'] / df['Sk']).astype('float64')\n",
    "\n",
    "    bacteria_types = []\n",
    "    Dks = []\n",
    "    Sks = []\n",
    "    for idx,row  in df.iterrows():\n",
    "        if row['R'] > 1.2:\n",
    "            Dks.append(row['szerokoscmm'])\n",
    "            Sks.append(row['Pw']*0.8)\n",
    "            bacteria_types.append(\"Krzywe\")\n",
    "        else:\n",
    "            Dks.append(row['dlugoscmm'])\n",
    "            Sks.append(row['szerokoscmm'])\n",
    "            if round(row['D/S'],15) > 1.5:\n",
    "                bacteria_types.append(\"Pałeczki\")\n",
    "            else:\n",
    "                bacteria_types.append(\"Ziarniaki\")\n",
    "    df['bacteria_type'] = bacteria_types\n",
    "    df['Dk'] = Dks\n",
    "    df['Sk'] = Sks\n",
    "\n",
    "    df['Ob'] =(3.14*(df['Sk']**3)/6)+(3.14*((df['Sk']**2)/4)*(df['Dk']-df['Sk']))\n",
    "    df = df[df['Ob']>0]\n",
    "    df['bialko'] = 104.5 * (df['Ob']**0.59)\n",
    "    df['wegiel'] = 0.86 * df['bialko']\n",
    "\n",
    "    return df"
   ]
  },
  {
   "cell_type": "code",
   "execution_count": 101,
   "id": "450a82d8",
   "metadata": {},
   "outputs": [],
   "source": [
    "def get_stats_for_bacteria_types(df,probe_volume_ml = 6):\n",
    "    grouped = df.groupby(\"bacteria_type\")\n",
    "    result_count = grouped.size().reset_index(name=\"count\")\n",
    "    result = grouped[\"Ob\"].mean().reset_index()\n",
    "\n",
    "    result['bialko'] = 104.5 * (result['Ob']**0.59)\n",
    "    result['wegiel'] = 0.86 * result['bialko']\n",
    "    result['count_in_1_ml']=((result_count['count']*48097.39)/10)/(probe_volume_ml)\n",
    "    result['biomasa'] =(((104.5*result['Ob']**0.59)*0.86)*result['count_in_1_ml'])/1000000\n",
    "\n",
    "    return result"
   ]
  },
  {
   "cell_type": "code",
   "execution_count": 102,
   "id": "2298f626",
   "metadata": {},
   "outputs": [],
   "source": [
    "import numpy as np\n",
    "\n",
    "def get_stats_for_for_ob_bins(df,probe_volume_ml = 6):\n",
    "    bins = [0, 0.1, 0.2, 0.5, 1.0, float(\"inf\")]\n",
    "    labels = [\"<=0.1\", \"0.1–0.2\", \"0.2–0.5\", \"0.5–1.0\", \">1.0\"]\n",
    "\n",
    "    df[\"Ob_bucket\"] = pd.cut(df[\"Ob\"], bins=bins, labels=labels, right=True)\n",
    "\n",
    "    grouped = df.groupby([\"bacteria_type\", \"Ob_bucket\"], observed=True)\n",
    "    result_bio_stats = grouped.size().reset_index(name=\"count\")\n",
    "\n",
    "    total_bacteria_count = np.sum(result_bio_stats['count'])\n",
    "    total_bacteria_count_1_ml = ((np.sum(result_bio_stats['count'])*48097.39)/10)/(probe_volume_ml)\n",
    "\n",
    "    result_bio_stats['count_in_1_ml']=((result_bio_stats['count']*48097.39)/10)/(probe_volume_ml)\n",
    "    result_bio_stats['bio_diversity'] =((result_bio_stats['count_in_1_ml']+1)/total_bacteria_count_1_ml)*np.log10((result_bio_stats['count_in_1_ml']+1)/total_bacteria_count_1_ml)\n",
    "\n",
    "    return result_bio_stats"
   ]
  },
  {
   "cell_type": "code",
   "execution_count": 103,
   "id": "58385851",
   "metadata": {},
   "outputs": [],
   "source": [
    "def get_speified_baceria_types_count(df):\n",
    "    return df.groupby(\"bacteria_type\").size().reset_index(name=\"count\")"
   ]
  },
  {
   "cell_type": "code",
   "execution_count": 104,
   "id": "43eaef3e",
   "metadata": {},
   "outputs": [],
   "source": [
    "def get_shannon_index(result_bio_stats):\n",
    "    return np.sum(result_bio_stats['bio_diversity'])*-1"
   ]
  },
  {
   "cell_type": "code",
   "execution_count": 105,
   "id": "425dbdf4",
   "metadata": {},
   "outputs": [],
   "source": [
    "import pandas as pd\n",
    "\n",
    "def full_analyse(df,proube_volume_ml=6):\n",
    "    df = preprocess_df(df)\n",
    "    df = get_individual_stats(df)\n",
    "    result = get_stats_for_bacteria_types(df,probe_volume_ml=proube_volume_ml)\n",
    "    result_bio_stats = get_stats_for_for_ob_bins(df,probe_volume_ml=proube_volume_ml)\n",
    "    specified_types_count_predicted =  get_speified_baceria_types_count(df)\n",
    "    shannon_index = np.sum(result_bio_stats['bio_diversity'])*-1\n",
    "    print(f\"Shannon index: {shannon_index}\")\n",
    "\n",
    "    return specified_types_count_predicted"
   ]
  },
  {
   "cell_type": "code",
   "execution_count": 106,
   "id": "f02c32f6",
   "metadata": {},
   "outputs": [
    {
     "name": "stdout",
     "output_type": "stream",
     "text": [
      "Shannon index: 1.0151037885191843\n",
      "  bacteria_type  count\n",
      "0        Krzywe    137\n",
      "1      Pałeczki    167\n",
      "2     Ziarniaki     95\n"
     ]
    }
   ],
   "source": [
    "df = load_dfs_from_path(\"agata_1_y_no_model\")\n",
    "predicted_classif = full_analyse(df,proube_volume_ml=6)\n",
    "print(predicted_classif)"
   ]
  },
  {
   "cell_type": "code",
   "execution_count": 107,
   "id": "0022b538",
   "metadata": {},
   "outputs": [
    {
     "name": "stdout",
     "output_type": "stream",
     "text": [
      "Shannon index: 0.9160771372864233\n",
      "  bacteria_type  count\n",
      "0        Krzywe     17\n",
      "1      Pałeczki    240\n",
      "2     Ziarniaki    147\n"
     ]
    }
   ],
   "source": [
    "df = load_dfs_from_path(\"agata_1_y_real\")\n",
    "real_classif = full_analyse(df,proube_volume_ml=6)\n",
    "print(real_classif)"
   ]
  },
  {
   "cell_type": "code",
   "execution_count": 108,
   "id": "b43f9b6e",
   "metadata": {},
   "outputs": [],
   "source": [
    "def compare_results(df_real, df_predicted,proube_volume_ml=6):\n",
    "    print(\"real:\")\n",
    "    real_classif = full_analyse(df_real,proube_volume_ml=proube_volume_ml)\n",
    "    print(\"predicted:\")\n",
    "    predicted_classif = full_analyse(df_predicted,proube_volume_ml=proube_volume_ml)\n",
    "    real_classif = real_classif.add_suffix(\"_real\")\n",
    "    predicted_classif = predicted_classif.add_suffix(\"_predicted\")\n",
    "    merged = pd.merge(real_classif,predicted_classif,left_on=\"bacteria_type_real\",right_on=\"bacteria_type_predicted\", how=\"inner\")\n",
    "    merged = merged.drop(axis=1,columns=['bacteria_type_predicted'])\n",
    "    merged = merged.rename(columns={\"bacteria_type_real\":\"bacteria_type\"})\n",
    "    merged['error'] = merged['count_predicted']- merged['count_real']\n",
    "    merged['relative_error'] = merged['error']/merged['count_real']\n",
    "    return merged"
   ]
  },
  {
   "cell_type": "code",
   "execution_count": 109,
   "id": "aec1e5fc",
   "metadata": {},
   "outputs": [
    {
     "name": "stdout",
     "output_type": "stream",
     "text": [
      "real:\n",
      "Shannon index: 0.9160771372864233\n",
      "predicted:\n",
      "Shannon index: 1.0151037885191843\n",
      "  bacteria_type  count_real  count_predicted  error  relative_error\n",
      "0        Krzywe          17              137    120        7.058824\n",
      "1      Pałeczki         240              167    -73       -0.304167\n",
      "2     Ziarniaki         147               95    -52       -0.353741\n"
     ]
    }
   ],
   "source": [
    "df_real = load_dfs_from_path(\"agata_1_y_real\")\n",
    "df_predicted = load_dfs_from_path(\"agata_1_y_no_model\")\n",
    "compared = compare_results(df_real=df_real,df_predicted=df_predicted,proube_volume_ml=6)\n",
    "print(compared)"
   ]
  }
 ],
 "metadata": {
  "kernelspec": {
   "display_name": ".venv",
   "language": "python",
   "name": "python3"
  },
  "language_info": {
   "codemirror_mode": {
    "name": "ipython",
    "version": 3
   },
   "file_extension": ".py",
   "mimetype": "text/x-python",
   "name": "python",
   "nbconvert_exporter": "python",
   "pygments_lexer": "ipython3",
   "version": "3.12.11"
  }
 },
 "nbformat": 4,
 "nbformat_minor": 5
}
