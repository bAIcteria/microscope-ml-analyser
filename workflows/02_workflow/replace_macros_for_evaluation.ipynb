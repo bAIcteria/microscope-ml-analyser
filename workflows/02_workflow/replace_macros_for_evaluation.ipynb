{
 "cells": [
  {
   "cell_type": "code",
   "execution_count": 1,
   "id": "094a2a02",
   "metadata": {},
   "outputs": [],
   "source": [
    "import os\n",
    "import pandas as pd\n",
    "\n",
    "def load_dfs_from_path(path=\"example\"):\n",
    "\n",
    "    combined_df = []\n",
    "\n",
    "    for entry in os.scandir(\"example\"):  \n",
    "        if entry.is_file() and entry.name.endswith(\".csv\"):\n",
    "            df = pd.read_csv(entry.path)\n",
    "            combined_df.append(df)\n",
    "\n",
    "    combined_df = pd.concat(combined_df, ignore_index=True)\n",
    "\n",
    "    return combined_df"
   ]
  },
  {
   "cell_type": "code",
   "execution_count": 2,
   "id": "c26fbfd1",
   "metadata": {},
   "outputs": [],
   "source": [
    "def get_individual_stats(df):\n",
    "    # Scaling\n",
    "    df['dlugoscmm'] = df['dlugoscmm']/1.49\n",
    "    df['szerokoscmm'] = df['szerokoscmm']/1.49\n",
    "    df['powierzchniamm'] = df['powierzchniamm']/2.235\n",
    "\n",
    "    # filtering the things that with high probability are not bacteria\n",
    "    df = df[df['dlugoscmm'] >= 0.2]\n",
    "    df = df[df['szerokoscmm'] <= 1.5]\n",
    "\n",
    "    df['Pw'] = 3.14*(df['szerokoscmm']/2)**2+df['szerokoscmm']*(df['dlugoscmm']-df['szerokoscmm'])\n",
    "    df['R'] = df['Pw'] / df['powierzchniamm']\n",
    "    df['Dk'] = df['dlugoscmm']\n",
    "    df['Sk'] = df['szerokoscmm']\n",
    "    df['D/S'] = (df['Dk'] / df['Sk']).astype('float64')\n",
    "\n",
    "    bacteria_types = []\n",
    "    Dks = []\n",
    "    Sks = []\n",
    "    for idx,row  in df.iterrows():\n",
    "        if row['R'] > 1.2:\n",
    "            Dks.append(row['szerokoscmm'])\n",
    "            Sks.append(row['Pw']*0.8)\n",
    "            bacteria_types.append(\"Krzywe\")\n",
    "        else:\n",
    "            Dks.append(row['dlugoscmm'])\n",
    "            Sks.append(row['szerokoscmm'])\n",
    "            if round(row['D/S'],15) > 1.5:\n",
    "                bacteria_types.append(\"Pałeczki\")\n",
    "            else:\n",
    "                bacteria_types.append(\"Ziarniaki\")\n",
    "    df['bacteria_type'] = bacteria_types\n",
    "    df['Dk'] = Dks\n",
    "    df['Sk'] = Sks\n",
    "\n",
    "    df['Ob'] =(3.14*(df['Sk']**3)/6)+(3.14*((df['Sk']**2)/4)*(df['Dk']-df['Sk']))\n",
    "    df = df[df['Ob']>0]\n",
    "    df['bialko'] = 104.5 * (df['Ob']**0.59)\n",
    "    df['wegiel'] = 0.86 * df['bialko']\n",
    "\n",
    "    return df"
   ]
  },
  {
   "cell_type": "code",
   "execution_count": 3,
   "id": "450a82d8",
   "metadata": {},
   "outputs": [],
   "source": [
    "def get_stats_for_bacteria_types(df,probe_volume_ml = 6):\n",
    "    grouped = df.groupby(\"bacteria_type\")\n",
    "    result_count = grouped.size().reset_index(name=\"count\")\n",
    "    result = grouped[\"Ob\"].mean().reset_index()\n",
    "\n",
    "    result['bialko'] = 104.5 * (result['Ob']**0.59)\n",
    "    result['wegiel'] = 0.86 * result['bialko']\n",
    "    result['count_in_1_ml']=((result_count['count']*48097.39)/10)/(probe_volume_ml)\n",
    "    result['biomasa'] =(((104.5*result['Ob']**0.59)*0.86)*result['count_in_1_ml'])/1000000\n",
    "\n",
    "    return result"
   ]
  },
  {
   "cell_type": "code",
   "execution_count": 4,
   "id": "2298f626",
   "metadata": {},
   "outputs": [],
   "source": [
    "import numpy as np\n",
    "\n",
    "def get_stats_for_for_ob_bins(df,probe_volume_ml = 6):\n",
    "    bins = [0, 0.1, 0.2, 0.5, 1.0, float(\"inf\")]\n",
    "    labels = [\"<=0.1\", \"0.1–0.2\", \"0.2–0.5\", \"0.5–1.0\", \">1.0\"]\n",
    "\n",
    "    df[\"Ob_bucket\"] = pd.cut(df[\"Ob\"], bins=bins, labels=labels, right=True)\n",
    "\n",
    "    grouped = df.groupby([\"bacteria_type\", \"Ob_bucket\"])\n",
    "    result_bio_stats = grouped.size().reset_index(name=\"count\")\n",
    "\n",
    "    total_bacteria_count = np.sum(result_bio_stats['count'])\n",
    "    total_bacteria_count_1_ml = ((np.sum(result_bio_stats['count'])*48097.39)/10)/(probe_volume_ml)\n",
    "\n",
    "    result_bio_stats['count_in_1_ml']=((result_bio_stats['count']*48097.39)/10)/(probe_volume_ml)\n",
    "    result_bio_stats['bio_diversity'] =((result_bio_stats['count_in_1_ml']+1)/total_bacteria_count_1_ml)*np.log10((result_bio_stats['count_in_1_ml']+1)/total_bacteria_count_1_ml)\n",
    "\n",
    "    return result_bio_stats"
   ]
  },
  {
   "cell_type": "code",
   "execution_count": 5,
   "id": "58385851",
   "metadata": {},
   "outputs": [],
   "source": [
    "def get_speified_baceria_types_count(df):\n",
    "    return df.groupby(\"bacteria_type\").size().reset_index(name=\"count\")"
   ]
  },
  {
   "cell_type": "code",
   "execution_count": 6,
   "id": "43eaef3e",
   "metadata": {},
   "outputs": [],
   "source": [
    "def get_shannon_index(result_bio_stats):\n",
    "    return np.sum(result_bio_stats['bio_diversity'])*-1"
   ]
  },
  {
   "cell_type": "code",
   "execution_count": 7,
   "id": "49ad93aa",
   "metadata": {},
   "outputs": [
    {
     "name": "stdout",
     "output_type": "stream",
     "text": [
      "Shannon index: 0.9136913415400122\n"
     ]
    },
    {
     "name": "stderr",
     "output_type": "stream",
     "text": [
      "/tmp/ipykernel_9082/1549549062.py:9: FutureWarning: The default of observed=False is deprecated and will be changed to True in a future version of pandas. Pass observed=False to retain current behavior or observed=True to adopt the future default and silence this warning.\n",
      "  grouped = df.groupby([\"bacteria_type\", \"Ob_bucket\"])\n"
     ]
    }
   ],
   "source": [
    "import pandas as pd\n",
    "\n",
    "# Set proble volume in mL\n",
    "PROBE_VOLUME_ML = 6\n",
    "\n",
    "# df = pd.read_csv(\"example/a1_raport.csv\")\n",
    "df = load_dfs_from_path(\"example\")\n",
    "df = get_individual_stats(df)\n",
    "result = get_stats_for_bacteria_types(df,probe_volume_ml=PROBE_VOLUME_ML)\n",
    "result_bio_stats = get_stats_for_for_ob_bins(df,probe_volume_ml=PROBE_VOLUME_ML)\n",
    "specified_types_count =  get_speified_baceria_types_count(df)\n",
    "shannon_index = np.sum(result_bio_stats['bio_diversity'])*-1\n",
    "print(f\"Shannon index: {shannon_index}\")"
   ]
  },
  {
   "cell_type": "code",
   "execution_count": 8,
   "id": "990d079b",
   "metadata": {},
   "outputs": [
    {
     "data": {
      "text/html": [
       "<div>\n",
       "<style scoped>\n",
       "    .dataframe tbody tr th:only-of-type {\n",
       "        vertical-align: middle;\n",
       "    }\n",
       "\n",
       "    .dataframe tbody tr th {\n",
       "        vertical-align: top;\n",
       "    }\n",
       "\n",
       "    .dataframe thead th {\n",
       "        text-align: right;\n",
       "    }\n",
       "</style>\n",
       "<table border=\"1\" class=\"dataframe\">\n",
       "  <thead>\n",
       "    <tr style=\"text-align: right;\">\n",
       "      <th></th>\n",
       "      <th>bacteria_type</th>\n",
       "      <th>count</th>\n",
       "    </tr>\n",
       "  </thead>\n",
       "  <tbody>\n",
       "    <tr>\n",
       "      <th>0</th>\n",
       "      <td>Krzywe</td>\n",
       "      <td>86</td>\n",
       "    </tr>\n",
       "    <tr>\n",
       "      <th>1</th>\n",
       "      <td>Pałeczki</td>\n",
       "      <td>224</td>\n",
       "    </tr>\n",
       "    <tr>\n",
       "      <th>2</th>\n",
       "      <td>Ziarniaki</td>\n",
       "      <td>165</td>\n",
       "    </tr>\n",
       "  </tbody>\n",
       "</table>\n",
       "</div>"
      ],
      "text/plain": [
       "  bacteria_type  count\n",
       "0        Krzywe     86\n",
       "1      Pałeczki    224\n",
       "2     Ziarniaki    165"
      ]
     },
     "execution_count": 8,
     "metadata": {},
     "output_type": "execute_result"
    }
   ],
   "source": [
    "specified_types_count"
   ]
  }
 ],
 "metadata": {
  "kernelspec": {
   "display_name": ".venv",
   "language": "python",
   "name": "python3"
  },
  "language_info": {
   "codemirror_mode": {
    "name": "ipython",
    "version": 3
   },
   "file_extension": ".py",
   "mimetype": "text/x-python",
   "name": "python",
   "nbconvert_exporter": "python",
   "pygments_lexer": "ipython3",
   "version": "3.12.11"
  }
 },
 "nbformat": 4,
 "nbformat_minor": 5
}
